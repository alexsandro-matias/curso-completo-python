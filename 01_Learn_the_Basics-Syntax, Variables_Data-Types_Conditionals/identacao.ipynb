{
 "cells": [
  {
   "cell_type": "markdown",
   "id": "539732fa",
   "metadata": {},
   "source": [
    "# IDENTAÇÃO EM PYTHON"
   ]
  },
  {
   "cell_type": "markdown",
   "id": "c15227a3",
   "metadata": {},
   "source": [
    "Em outras linguagens como C/C++ e Java o escopo é delimitado pelas aspas. Já em Python isso, não ocorre. Esta linguagem se baseia na identacao. Mas como o interpretador reconhece um escopo?\n",
    "Por que todo comando composto termina com \":\" que funciona como delimitador de bloco. Desta forma, a separação de escopo pode ser considerada separadas por níveis, onde quanto mais externa a identação, menor o nível. Como padrão sugerido pela PEP8, a melhor forma de realizar esta identação é através 4 espaços."
   ]
  },
  {
   "cell_type": "markdown",
   "id": "6eb9faf5",
   "metadata": {},
   "source": [
    "## Por exemplo"
   ]
  },
  {
   "cell_type": "code",
   "execution_count": null,
   "id": "aaed5779",
   "metadata": {},
   "outputs": [],
   "source": [
    "# Nível 0 da hierarquia\n",
    "def qualquer():\n",
    "    # Encontrou um comando composto passa para o nível 1\n",
    "    # Esse reconhecimento é justamente pela diferença de identação.\n",
    "    print('qualquer coisa ')\n",
    "    # Mesmo nível já não se aumentou o número de espaços.\n",
    "    print(9 * 8)\n",
    "    # Então, a quantidade de espaços é indiferente, o que é necessário é que sejam o mesmo valor\n",
    "    for i in range(10):\n",
    "        # Hieraquia de Nível 2\n",
    "        print(i)\n"
   ]
  },
  {
   "cell_type": "markdown",
   "id": "018e05d0",
   "metadata": {},
   "source": [
    "Nesta abordagem, temos um problema, e se quisermos declarar um bloco de código vazio? Existe uma palavra reservada para isso no Python - **pass** - ou seja ele não faz nada. Deste modo, as linhas são consideradas de formas diferentes em Python, que são linhas físicas e linhas lógicas. No primeiro caso tudo que termina com o caracter de escape \\n. Quando a linha tem um comando com um comprimento maior usa-se o símbolo da \"**\\\\**\" para quebrar este comando em duas linhas."
   ]
  },
  {
   "cell_type": "markdown",
   "id": "13c425bc",
   "metadata": {},
   "source": [
    "## Mais um exemplo"
   ]
  },
  {
   "cell_type": "code",
   "execution_count": null,
   "id": "80a2202e",
   "metadata": {},
   "outputs": [],
   "source": [
    "if True and \\\n",
    "        True:\n",
    "    print(\"Tudo verdadeiro\")"
   ]
  },
  {
   "cell_type": "markdown",
   "id": "8199e731",
   "metadata": {},
   "source": [
    "Porém essa abordagem peca na legibilidade. Para evitarmos isso, basta dar uma quebra de linha em comandos compostos que o Python ignora a identação por que percebe que se trata de uma continuação de um comando. como por exemplo na linha abaixo.\n",
    "\n"
   ]
  },
  {
   "cell_type": "code",
   "execution_count": null,
   "id": "4fe5f4be",
   "metadata": {},
   "outputs": [],
   "source": [
    "print('Alexsandro ' +\n",
    "      'Matias' +\n",
    "      '.')"
   ]
  },
  {
   "cell_type": "markdown",
   "id": "9d5be622",
   "metadata": {},
   "source": []
  }
 ],
 "metadata": {
  "kernelspec": {
   "display_name": ".venv",
   "language": "python",
   "name": "python3"
  },
  "language_info": {
   "name": "python",
   "version": "3.13.0"
  }
 },
 "nbformat": 4,
 "nbformat_minor": 5
}
