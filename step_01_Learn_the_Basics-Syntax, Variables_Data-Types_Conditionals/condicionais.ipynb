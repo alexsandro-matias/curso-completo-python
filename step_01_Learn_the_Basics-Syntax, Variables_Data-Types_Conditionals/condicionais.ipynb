{
 "cells": [
  {
   "cell_type": "code",
   "execution_count": 22,
   "metadata": {},
   "outputs": [],
   "source": [
    "nome = 'Alexsandro'"
   ]
  },
  {
   "cell_type": "markdown",
   "metadata": {},
   "source": [
    "Nesta primeira situação apenas para imprimir as vogais em letras maiúsculas."
   ]
  },
  {
   "cell_type": "code",
   "execution_count": 23,
   "metadata": {},
   "outputs": [
    {
     "name": "stdout",
     "output_type": "stream",
     "text": [
      "E\n",
      "A\n",
      "O\n"
     ]
    }
   ],
   "source": [
    "for letra in nome:\n",
    "    if letra == 'a' or letra == 'e' or letra == 'i' or letra == 'o' or letra == 'u':\n",
    "        print(letra.upper())"
   ]
  },
  {
   "cell_type": "markdown",
   "metadata": {},
   "source": [
    "Mas se houvesse apenas o if somente iria encontrar as vogais e depois imprimi-las em maiúsculas. Por isso, precisa deste else para que - em caso contrário das vogais - imprima o restante.\n"
   ]
  },
  {
   "cell_type": "code",
   "execution_count": 24,
   "metadata": {},
   "outputs": [
    {
     "name": "stdout",
     "output_type": "stream",
     "text": [
      "A\n",
      "l\n",
      "E\n",
      "x\n",
      "s\n",
      "A\n",
      "n\n",
      "d\n",
      "r\n",
      "O\n"
     ]
    }
   ],
   "source": [
    "for letra in nome:\n",
    "    if letra == 'a' or letra == 'e' or letra == 'i' or letra == 'o' or letra == 'u':\n",
    "        print(letra.upper())\n",
    "    else:\n",
    "        print(letra)"
   ]
  },
  {
   "cell_type": "markdown",
   "metadata": {},
   "source": [
    "\n",
    "Essa verificação de comparação entre dois valores é através do operador \"==\" ou também chamado de operador de equivalência. Mas de qualquer forma esse código pode ser melhorado uma vez que podemos agrupar as vogais numa tupla e depois verificar se a letra da iteração está contida nesta tupla."
   ]
  },
  {
   "cell_type": "code",
   "execution_count": 25,
   "metadata": {},
   "outputs": [
    {
     "name": "stdout",
     "output_type": "stream",
     "text": [
      "A\n",
      "l\n",
      "E\n",
      "x\n",
      "s\n",
      "A\n",
      "n\n",
      "d\n",
      "r\n",
      "O\n"
     ]
    }
   ],
   "source": [
    "\n",
    "for letra in nome:\n",
    "    if letra in ('a','e','i','o','u'):\n",
    "        print(letra.upper())\n",
    "    else:\n",
    "        print(letra)"
   ]
  },
  {
   "cell_type": "markdown",
   "metadata": {},
   "source": [
    "\n",
    "\n",
    "O operador in tem a funçao de verificar se algum elemento está contido numa determinada sequência. O python isso ainda mais em alto nível por que se pode deixar todas as letras numa mesma string. O interpretador é inteligente o suficiente para verificar caracter por caracter está numa sequência. Então, o mesmo efeito pode ser obtido pelo código:"
   ]
  },
  {
   "cell_type": "code",
   "execution_count": 26,
   "metadata": {},
   "outputs": [
    {
     "name": "stdout",
     "output_type": "stream",
     "text": [
      "A\n",
      "l\n",
      "E\n",
      "x\n",
      "s\n",
      "A\n",
      "n\n",
      "d\n",
      "r\n",
      "O\n"
     ]
    }
   ],
   "source": [
    "for letra in nome:\n",
    "    if letra in 'aeiou':\n",
    "        print(letra.upper())\n",
    "    else:\n",
    "        print(letra)"
   ]
  },
  {
   "cell_type": "markdown",
   "metadata": {},
   "source": [
    "Agora, vamos supor que precise imprimir no lugar do 's' o caracter '$'. Pode-se imaginar primeiramente o seguinte código:"
   ]
  },
  {
   "cell_type": "code",
   "execution_count": 27,
   "metadata": {},
   "outputs": [
    {
     "name": "stdout",
     "output_type": "stream",
     "text": [
      "A\n",
      "l\n",
      "E\n",
      "x\n",
      "s\n",
      "$\n",
      "A\n",
      "n\n",
      "d\n",
      "r\n",
      "O\n"
     ]
    }
   ],
   "source": [
    "\n",
    "for letra in nome:\n",
    "    if letra in ('a','e','i','o','u'):\n",
    "        print(letra.upper())\n",
    "    else:\n",
    "        print(letra)\n",
    "    if letra == 's':\n",
    "        print('$')"
   ]
  },
  {
   "cell_type": "markdown",
   "metadata": {},
   "source": [
    "Porém nesta abordagem, temos um erro semâtico, já que os 'if's são totalmente independentes um do outro. Para que um se torne seja executando caso o if não seja atendido, mas que também não seja executado no else, usa-se a função elif:"
   ]
  },
  {
   "cell_type": "code",
   "execution_count": 28,
   "metadata": {},
   "outputs": [
    {
     "name": "stdout",
     "output_type": "stream",
     "text": [
      "A\n",
      "l\n",
      "E\n",
      "x\n",
      "$\n",
      "A\n",
      "n\n",
      "d\n",
      "r\n",
      "O\n"
     ]
    }
   ],
   "source": [
    "for letra in nome:\n",
    "    if letra in ('a', 'e', 'i', 'o', 'u'):\n",
    "        print(letra.upper())\n",
    "    elif letra == 's':\n",
    "        print('$')\n",
    "    else:\n",
    "        print(letra)"
   ]
  },
  {
   "cell_type": "markdown",
   "metadata": {},
   "source": [
    "Em outras linguagens existem uma abordagem parecida como else if que pode causar ambiguidades. No caso do Python existe uma palavra reservada pra isso. Sintanticamente, somente pode existir um elif se houver um if anterior."
   ]
  },
  {
   "cell_type": "markdown",
   "metadata": {},
   "source": [
    "\n",
    "\n",
    "# Palavras Reservadas\n",
    "True e false são singletons em python, ou seja, somente existem uma instância de cada uma desses objetos. Mas ao mesmo tempo, a inexistência ou nulidade de itens no contexto de tabela verdade implica em falso. Por exemplo:"
   ]
  },
  {
   "cell_type": "code",
   "execution_count": 29,
   "metadata": {},
   "outputs": [
    {
     "name": "stdout",
     "output_type": "stream",
     "text": [
      "False\n",
      "False\n",
      "False\n",
      "False\n",
      "False\n",
      "False\n",
      "False\n"
     ]
    }
   ],
   "source": [
    "print(bool(None))\n",
    "print(bool(False))\n",
    "print(bool(0))\n",
    "print(bool(''))\n",
    "print(bool([]))\n",
    "print(bool({}))\n",
    "print(bool(()))"
   ]
  },
  {
   "cell_type": "markdown",
   "metadata": {},
   "source": [
    "Então, para qualquer outro valor, representa verdadeiro."
   ]
  },
  {
   "cell_type": "code",
   "execution_count": 30,
   "metadata": {},
   "outputs": [
    {
     "name": "stdout",
     "output_type": "stream",
     "text": [
      "True\n",
      "True\n",
      "True\n",
      "True\n",
      "True\n",
      "True\n"
     ]
    }
   ],
   "source": [
    "print(bool(1))\n",
    "print(bool(True))\n",
    "print(bool('a'))\n",
    "print(bool([1,3]))\n",
    "print(bool({'Nome':'Alexsandro'}))\n",
    "print(bool((19,10)))"
   ]
  },
  {
   "cell_type": "markdown",
   "metadata": {},
   "source": [
    "O python também utiliza o conceito de curto-cirtuito de comparações:\n",
    "print(True and 'ab') - retorno 'ab' mesmo que os dois tenham a saída lógica verdadeira Já que o python retorna o último elemento avaliado."
   ]
  },
  {
   "cell_type": "code",
   "execution_count": 31,
   "metadata": {},
   "outputs": [
    {
     "name": "stdout",
     "output_type": "stream",
     "text": [
      "[]\n"
     ]
    }
   ],
   "source": [
    "print(True and [])"
   ]
  },
  {
   "cell_type": "markdown",
   "metadata": {},
   "source": [
    "retorno [] por que o python compara um valor True com uma lista vazia que é o valor falso. Isso ocorre por que como o valor de saída é falso, o retorno é a própria lista vazia."
   ]
  },
  {
   "cell_type": "markdown",
   "metadata": {},
   "source": [
    "## Invertendo as comparações:\n",
    "print('abc' and True) - Como  a última comparação foi True, este será o valor retornado. Porém se o primeiro valor for falso e qualquer outra coisa, o Python ignora o restante por que sabe que o restante será falso. Assim:"
   ]
  },
  {
   "cell_type": "code",
   "execution_count": 32,
   "metadata": {},
   "outputs": [
    {
     "name": "stdout",
     "output_type": "stream",
     "text": [
      "[]\n"
     ]
    }
   ],
   "source": [
    "print([] and True) # O valor falso é a lista vazia"
   ]
  },
  {
   "cell_type": "markdown",
   "metadata": {},
   "source": [
    "logo nem é comparado o restante da expressão retornando o valor falso representado pela lista vazia. Esse comportamento é chamado de curto circuito. Pode explicitado tentando comparar uma variável com uma variável que nem foi declarada, e mesmo assim o código executa sem erros."
   ]
  },
  {
   "cell_type": "code",
   "execution_count": 33,
   "metadata": {},
   "outputs": [
    {
     "name": "stdout",
     "output_type": "stream",
     "text": [
      "1\n"
     ]
    }
   ],
   "source": [
    "print(1 or variavel)"
   ]
  },
  {
   "cell_type": "markdown",
   "metadata": {},
   "source": [
    "Isso somente é possível por que como o valor 1 é verdadeiro, o restante da expressão e ignorada e retorna o valor verdadeiro expressado pelo valor 1."
   ]
  }
 ],
 "metadata": {
  "kernelspec": {
   "display_name": "Python 3",
   "language": "python",
   "name": "python3"
  },
  "language_info": {
   "codemirror_mode": {
    "name": "ipython",
    "version": 3
   },
   "file_extension": ".py",
   "mimetype": "text/x-python",
   "name": "python",
   "nbconvert_exporter": "python",
   "pygments_lexer": "ipython3",
   "version": "3.12.0"
  }
 },
 "nbformat": 4,
 "nbformat_minor": 2
}
