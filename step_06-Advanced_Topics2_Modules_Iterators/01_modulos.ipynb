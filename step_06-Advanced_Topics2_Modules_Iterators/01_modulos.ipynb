{
 "cells": [
  {
   "cell_type": "markdown",
   "metadata": {
    "colab_type": "text",
    "id": "view-in-github"
   },
   "source": [
    "<a href=\"https://colab.research.google.com/github/alexsandro-matias/python_base/blob/main/01_modulos.ipynb\" target=\"_parent\"><img src=\"https://colab.research.google.com/assets/colab-badge.svg\" alt=\"Open In Colab\"/></a>"
   ]
  },
  {
   "cell_type": "markdown",
   "metadata": {
    "id": "6M-PxfbLJb_s"
   },
   "source": [
    "# Módulos em Python"
   ]
  },
  {
   "cell_type": "markdown",
   "metadata": {
    "id": "KGf4HG-1Juyp"
   },
   "source": [
    "Diferentemente de outras linguagens como Java e C/C++ em que o **entrypoint** (a primeiro item a ser executado ou também chamado de ponto de entrada do programa) é o método (função) **main**, em Python é todo o módulo, ou seja, o arquivo executado passado como parâmetro do interpretador (quando o **arquivo.py** é executado).\n"
   ]
  },
  {
   "cell_type": "markdown",
   "metadata": {},
   "source": [
    "Assim, quando é executando o comando ***python*** sem nennhum módulo (arquivo | programa.py) o interpretador python cria um módulo vazio que é representado pelo namespace do módulo. Desta forma, o namespace é global ao módulo e não a todo o sistema (conjunto de arquivos). Isso faz com o conceito de variáveis globais sejam alteradas em Python. Já que as variáveis estarão contidas apenas no módulo em execução. Para verificar quais são elas, utiliza-se uma função interna (**function build-in**) do python:"
   ]
  },
  {
   "cell_type": "markdown",
   "metadata": {
    "id": "-jaENitxKxm7"
   },
   "source": [
    "Caso não seja passado nenhum arquivo por parâmetro, o Python cria um módulo vazio."
   ]
  },
  {
   "cell_type": "code",
   "execution_count": 1,
   "metadata": {},
   "outputs": [
    {
     "data": {
      "text/plain": [
       "<function globals()>"
      ]
     },
     "execution_count": 1,
     "metadata": {},
     "output_type": "execute_result"
    }
   ],
   "source": [
    "globals"
   ]
  },
  {
   "cell_type": "code",
   "execution_count": 2,
   "metadata": {},
   "outputs": [
    {
     "data": {
      "text/plain": [
       "{'__name__': '__main__',\n",
       " '__doc__': 'Automatically created module for IPython interactive environment',\n",
       " '__package__': None,\n",
       " '__loader__': None,\n",
       " '__spec__': None,\n",
       " '__builtin__': <module 'builtins' (built-in)>,\n",
       " '__builtins__': <module 'builtins' (built-in)>,\n",
       " '_ih': ['', 'globals', 'globals()'],\n",
       " '_oh': {1: <function globals()>},\n",
       " '_dh': [PosixPath('/home/matias/repositorios-github/base_python')],\n",
       " 'In': ['', 'globals', 'globals()'],\n",
       " 'Out': {1: <function globals()>},\n",
       " 'get_ipython': <bound method InteractiveShell.get_ipython of <ipykernel.zmqshell.ZMQInteractiveShell object at 0x7f9b6914a210>>,\n",
       " 'exit': <IPython.core.autocall.ZMQExitAutocall at 0x7f9b69152550>,\n",
       " 'quit': <IPython.core.autocall.ZMQExitAutocall at 0x7f9b69152550>,\n",
       " 'open': <function io.open(file, mode='r', buffering=-1, encoding=None, errors=None, newline=None, closefd=True, opener=None)>,\n",
       " '_': <function globals()>,\n",
       " '__': '',\n",
       " '___': '',\n",
       " '_i': 'globals',\n",
       " '_ii': '',\n",
       " '_iii': '',\n",
       " '_i1': 'globals',\n",
       " '_1': <function globals()>,\n",
       " '_i2': 'globals()'}"
      ]
     },
     "execution_count": 2,
     "metadata": {},
     "output_type": "execute_result"
    }
   ],
   "source": [
    "globals()"
   ]
  },
  {
   "cell_type": "code",
   "execution_count": 3,
   "metadata": {},
   "outputs": [],
   "source": [
    "mensagem = 'Python é massa'"
   ]
  },
  {
   "cell_type": "markdown",
   "metadata": {
    "id": "t9o_qJOJLv8G"
   },
   "source": [
    "Chamando novamente o método globals()"
   ]
  },
  {
   "cell_type": "code",
   "execution_count": 4,
   "metadata": {
    "colab": {
     "base_uri": "https://localhost:8080/"
    },
    "id": "iiWH9LrKLss4",
    "outputId": "b3fbe185-83b4-4b75-9254-ec5d53e980c7"
   },
   "outputs": [
    {
     "data": {
      "text/plain": [
       "{'__name__': '__main__',\n",
       " '__doc__': 'Automatically created module for IPython interactive environment',\n",
       " '__package__': None,\n",
       " '__loader__': None,\n",
       " '__spec__': None,\n",
       " '__builtin__': <module 'builtins' (built-in)>,\n",
       " '__builtins__': <module 'builtins' (built-in)>,\n",
       " '_ih': ['',\n",
       "  'globals',\n",
       "  'globals()',\n",
       "  \"mensagem = 'Python é massa'\",\n",
       "  'globals()'],\n",
       " '_oh': {1: <function globals()>, 2: {...}},\n",
       " '_dh': [PosixPath('/home/matias/repositorios-github/base_python')],\n",
       " 'In': ['',\n",
       "  'globals',\n",
       "  'globals()',\n",
       "  \"mensagem = 'Python é massa'\",\n",
       "  'globals()'],\n",
       " 'Out': {1: <function globals()>, 2: {...}},\n",
       " 'get_ipython': <bound method InteractiveShell.get_ipython of <ipykernel.zmqshell.ZMQInteractiveShell object at 0x7f9b6914a210>>,\n",
       " 'exit': <IPython.core.autocall.ZMQExitAutocall at 0x7f9b69152550>,\n",
       " 'quit': <IPython.core.autocall.ZMQExitAutocall at 0x7f9b69152550>,\n",
       " 'open': <function io.open(file, mode='r', buffering=-1, encoding=None, errors=None, newline=None, closefd=True, opener=None)>,\n",
       " '_': {...},\n",
       " '__': <function globals()>,\n",
       " '___': '',\n",
       " '_i': \"mensagem = 'Python é massa'\",\n",
       " '_ii': 'globals()',\n",
       " '_iii': 'globals',\n",
       " '_i1': 'globals',\n",
       " '_1': <function globals()>,\n",
       " '_i2': 'globals()',\n",
       " '_2': {...},\n",
       " '_i3': \"mensagem = 'Python é massa'\",\n",
       " 'mensagem': 'Python é massa',\n",
       " '_i4': 'globals()'}"
      ]
     },
     "execution_count": 4,
     "metadata": {},
     "output_type": "execute_result"
    }
   ],
   "source": [
    "globals()"
   ]
  },
  {
   "cell_type": "markdown",
   "metadata": {
    "id": "aq0fbY9AL-vW"
   },
   "source": [
    "Com a a variável **texto** não está contida em nenhuma função ela é considerada como variável global, ou seja, todas as variáveis declaradas no corpo do módulo são globais. Já aquelas que são declaradas dentro de uma função são locais."
   ]
  },
  {
   "cell_type": "markdown",
   "metadata": {
    "id": "4d4G0mIwMgqM"
   },
   "source": [
    "Algumas variáveis apresentam \"__variavel__\" - isso representa variáveis intermediárias entre o código interno do Python com os códigos produzidos pelo programador. Um exemplo para representar esse uso pode ser através:"
   ]
  },
  {
   "cell_type": "code",
   "execution_count": 5,
   "metadata": {
    "id": "3sB3En2FjxAr"
   },
   "outputs": [],
   "source": [
    "# if __name__ == '__main__':\n",
    "#   main()"
   ]
  },
  {
   "cell_type": "markdown",
   "metadata": {
    "id": "Q6s6II0ujibG"
   },
   "source": [
    "Então se for chamado qualquer módulo que não existe, o interpretador irá indicar que namespace atual, o módulo não existe. Por exemplo:"
   ]
  },
  {
   "cell_type": "code",
   "execution_count": 6,
   "metadata": {
    "colab": {
     "base_uri": "https://localhost:8080/"
    },
    "id": "jhrPbRjhlSWD",
    "outputId": "bc1fd5a4-71fd-47ea-fdb2-43bd8b46c579"
   },
   "outputs": [
    {
     "ename": "NameError",
     "evalue": "name 'os' is not defined",
     "output_type": "error",
     "traceback": [
      "\u001b[0;31m---------------------------------------------------------------------------\u001b[0m",
      "\u001b[0;31mNameError\u001b[0m                                 Traceback (most recent call last)",
      "Cell \u001b[0;32mIn[6], line 1\u001b[0m\n\u001b[0;32m----> 1\u001b[0m \u001b[43mos\u001b[49m\n",
      "\u001b[0;31mNameError\u001b[0m: name 'os' is not defined"
     ]
    }
   ],
   "source": [
    "os"
   ]
  },
  {
   "cell_type": "markdown",
   "metadata": {
    "id": "50m4GB8Glkbb"
   },
   "source": [
    "Como não no namespace atual uma variável chamada **os**. Para que ela seja encontrada, ela deve ser importada:"
   ]
  },
  {
   "cell_type": "code",
   "execution_count": 7,
   "metadata": {
    "id": "i4C917A9mPS3"
   },
   "outputs": [],
   "source": [
    "import os"
   ]
  },
  {
   "cell_type": "markdown",
   "metadata": {
    "id": "S9KSfpi7mR1s"
   },
   "source": [
    "Agora, para verificarmos se o módulo está presente:"
   ]
  },
  {
   "cell_type": "code",
   "execution_count": 8,
   "metadata": {
    "colab": {
     "base_uri": "https://localhost:8080/"
    },
    "id": "y0Kgt15rmYWc",
    "outputId": "dc659ebb-00b0-49af-a135-567750e9d1c0"
   },
   "outputs": [
    {
     "data": {
      "text/plain": [
       "<module 'os' (frozen)>"
      ]
     },
     "execution_count": 8,
     "metadata": {},
     "output_type": "execute_result"
    }
   ],
   "source": [
    "os"
   ]
  },
  {
   "cell_type": "markdown",
   "metadata": {
    "id": "GglmT45HmaLk"
   },
   "source": [
    "Na linha anterior, é mostrado o objeto módulo é referenciado no local do diretório que contém um arquivo **.py**. Então como se trata de um objeto, pode-se usar o **.** como acessor das propriedades do módulo:"
   ]
  },
  {
   "cell_type": "code",
   "execution_count": 9,
   "metadata": {
    "colab": {
     "base_uri": "https://localhost:8080/",
     "height": 35
    },
    "id": "LDApmClSnMkY",
    "outputId": "519b46e0-d09d-4490-9d2c-6d660b60547c"
   },
   "outputs": [
    {
     "data": {
      "text/plain": [
       "'/home/matias/repositorios-github/base_python'"
      ]
     },
     "execution_count": 9,
     "metadata": {},
     "output_type": "execute_result"
    }
   ],
   "source": [
    "os.getcwd()"
   ]
  },
  {
   "cell_type": "markdown",
   "metadata": {
    "id": "FtvaPcPBnRzd"
   },
   "source": [
    "No comando anterior, foi mostrado o diretório atual - **get current word directory**. Para verificar o tipo da variável que passamos, pode-se utilizar a função **type** para vermos o tipo que a variável passada como parâmetro é referenciada."
   ]
  },
  {
   "cell_type": "code",
   "execution_count": 10,
   "metadata": {
    "colab": {
     "base_uri": "https://localhost:8080/"
    },
    "id": "XKErrVj0oJJ_",
    "outputId": "292bc0eb-b792-4d1c-b004-d97ba10e123a"
   },
   "outputs": [
    {
     "data": {
      "text/plain": [
       "module"
      ]
     },
     "execution_count": 10,
     "metadata": {},
     "output_type": "execute_result"
    }
   ],
   "source": [
    "type(os)"
   ]
  },
  {
   "cell_type": "markdown",
   "metadata": {
    "id": "7GB746j2sR6h"
   },
   "source": [
    "Para mais detalhes que complementam aquilo que foi mostrado anteriormente, como por exemplo o nome do módulo:"
   ]
  },
  {
   "cell_type": "code",
   "execution_count": 11,
   "metadata": {
    "colab": {
     "base_uri": "https://localhost:8080/",
     "height": 35
    },
    "id": "hK6dm7ZQsW6-",
    "outputId": "b2c487df-4ec6-4df3-ddf1-cd0a00c3a5d0"
   },
   "outputs": [
    {
     "data": {
      "text/plain": [
       "'os'"
      ]
     },
     "execution_count": 11,
     "metadata": {},
     "output_type": "execute_result"
    }
   ],
   "source": [
    "os.__name__"
   ]
  },
  {
   "cell_type": "markdown",
   "metadata": {
    "id": "YrSw6xWCsh3h"
   },
   "source": [
    "O caminho que referencia o módulo:"
   ]
  },
  {
   "cell_type": "code",
   "execution_count": 12,
   "metadata": {
    "colab": {
     "base_uri": "https://localhost:8080/",
     "height": 35
    },
    "id": "FabVZ3LcsnI4",
    "outputId": "acaf24c0-84cd-424e-9c5c-1b87222ccebe"
   },
   "outputs": [
    {
     "data": {
      "text/plain": [
       "'/usr/lib/python3.11/os.py'"
      ]
     },
     "execution_count": 12,
     "metadata": {},
     "output_type": "execute_result"
    }
   ],
   "source": [
    "os.__file__"
   ]
  },
  {
   "cell_type": "markdown",
   "metadata": {
    "id": "XtMi7-oys1Tg"
   },
   "source": [
    "Quando o interpretador busca um módulo, essa busca é feita no diretório atual, assim como em diretórios específicos do interpretador. No caso de **os** foi encontrada no local padrão de instalação dos módulos **build-in** do python."
   ]
  },
  {
   "cell_type": "markdown",
   "metadata": {
    "id": "EtIxE61FtVuk"
   },
   "source": [
    "Depois de encontrado o arquivo, este então é aberto, processa todo o código fonte, gera os bytecodes e instancia em memória um objeto do tipo **módulo** que referencia estes bytecodes gerados. Como é um processo relativamente custoso, o Python cria um cache de todos os módulos que são importados. Assim esse processamento somente será feito na primeira vez que o módulo foi importado. Para realizar a importação pode ser feita nomeando o módulo de __os__ que manipula o sistema operacional. Mas nada impede que demos qualquer a este módulo. Para isso damos um apelido a ele:"
   ]
  },
  {
   "cell_type": "markdown",
   "metadata": {
    "id": "rqLd3hoAuhPl"
   },
   "source": []
  },
  {
   "cell_type": "code",
   "execution_count": 13,
   "metadata": {
    "id": "o4L7ZCakuqZq"
   },
   "outputs": [],
   "source": [
    "import os as asdf"
   ]
  },
  {
   "cell_type": "markdown",
   "metadata": {
    "id": "uA3wvw1Uux54"
   },
   "source": [
    "Neste momento, teremos uma variável chamada **asdf** também faz referência ao módulo de **os**. Isso também possibilita fazer referência a esta variável criada:"
   ]
  },
  {
   "cell_type": "code",
   "execution_count": 14,
   "metadata": {},
   "outputs": [
    {
     "data": {
      "text/plain": [
       "<module 'os' (frozen)>"
      ]
     },
     "execution_count": 14,
     "metadata": {},
     "output_type": "execute_result"
    }
   ],
   "source": [
    "asdf"
   ]
  },
  {
   "cell_type": "code",
   "execution_count": 15,
   "metadata": {
    "id": "Tf0DAMpKvOOS"
   },
   "outputs": [],
   "source": [
    "a = asdf"
   ]
  },
  {
   "cell_type": "code",
   "execution_count": 16,
   "metadata": {
    "colab": {
     "base_uri": "https://localhost:8080/"
    },
    "id": "uApkDHjPvUpx",
    "outputId": "6fb40381-7506-4c63-8b10-2ad6bd2ab3a3"
   },
   "outputs": [
    {
     "data": {
      "text/plain": [
       "<module 'os' (frozen)>"
      ]
     },
     "execution_count": 16,
     "metadata": {},
     "output_type": "execute_result"
    }
   ],
   "source": [
    "asdf"
   ]
  },
  {
   "cell_type": "code",
   "execution_count": 17,
   "metadata": {
    "colab": {
     "base_uri": "https://localhost:8080/"
    },
    "id": "m-_BsBCFvWTJ",
    "outputId": "63bd68db-050a-4386-9169-81e1ab626c00"
   },
   "outputs": [
    {
     "data": {
      "text/plain": [
       "<module 'os' (frozen)>"
      ]
     },
     "execution_count": 17,
     "metadata": {},
     "output_type": "execute_result"
    }
   ],
   "source": [
    "a"
   ]
  },
  {
   "cell_type": "markdown",
   "metadata": {
    "id": "hnt5ybYsvX3y"
   },
   "source": [
    "É possível provar que ambas as variáveis referenciam o mesmo módulo. Desta forma, se torna possível reutilizar todos os recursos do módulo nestas variáveis. Por exemplo, se qui"
   ]
  },
  {
   "cell_type": "code",
   "execution_count": 18,
   "metadata": {
    "colab": {
     "base_uri": "https://localhost:8080/",
     "height": 35
    },
    "id": "UvHS1OPivnSi",
    "outputId": "bd22fcd0-9e14-44ed-d6d2-1964ca41d400"
   },
   "outputs": [
    {
     "data": {
      "text/plain": [
       "'/home/matias/repositorios-github/base_python'"
      ]
     },
     "execution_count": 18,
     "metadata": {},
     "output_type": "execute_result"
    }
   ],
   "source": [
    "a.getcwd()"
   ]
  },
  {
   "cell_type": "code",
   "execution_count": 19,
   "metadata": {
    "colab": {
     "base_uri": "https://localhost:8080/",
     "height": 35
    },
    "id": "9aB1posOvrXJ",
    "outputId": "23e0e1ed-1b9a-4430-a2e4-8647984c56cf"
   },
   "outputs": [
    {
     "data": {
      "text/plain": [
       "'/home/matias/repositorios-github/base_python'"
      ]
     },
     "execution_count": 19,
     "metadata": {},
     "output_type": "execute_result"
    }
   ],
   "source": [
    "asdf.getcwd()"
   ]
  },
  {
   "cell_type": "markdown",
   "metadata": {
    "id": "Mj3D6mqyv1eB"
   },
   "source": [
    "Esta importação acontece no Runtime do Python. Isto implica que o interpretador Python gerencia estas referências. Para abreviar, por exemplo, um dos comandos abaixo:"
   ]
  },
  {
   "cell_type": "code",
   "execution_count": 30,
   "metadata": {
    "id": "8PI25Wn1v_8Q"
   },
   "outputs": [],
   "source": [
    "import os as os"
   ]
  },
  {
   "cell_type": "markdown",
   "metadata": {
    "id": "8E-hCtY5_ZCc"
   },
   "source": [
    "Para confirmar que todas apontam para a mesma variável, melhor dizendo, para o mesmo endereço de memória:"
   ]
  },
  {
   "cell_type": "code",
   "execution_count": 21,
   "metadata": {
    "colab": {
     "base_uri": "https://localhost:8080/"
    },
    "id": "uWwoQrTG_ePc",
    "outputId": "c6f59abd-37c4-4077-c61f-8a458ca4147e"
   },
   "outputs": [
    {
     "data": {
      "text/plain": [
       "(140305512858144, 140305512858144, 140305512858144)"
      ]
     },
     "execution_count": 21,
     "metadata": {},
     "output_type": "execute_result"
    }
   ],
   "source": [
    "id(os), id(asdf), id(a)"
   ]
  },
  {
   "cell_type": "markdown",
   "metadata": {
    "id": "W1PyuRpf_wUq"
   },
   "source": [
    "O endereço que está sendo apontado é o mesmo. Isso acontece devido ao cache feito pelo python, uma vez que o módulo já anteriormente utilizado. Em vez de importar todo o módulo, é possível importar um recurso específico do módulo, que neste caso, apenas exibe o diretório atual do sistema operacional:"
   ]
  },
  {
   "cell_type": "code",
   "execution_count": 27,
   "metadata": {
    "id": "G7m_7l57ARr7"
   },
   "outputs": [],
   "source": [
    "from os import getcwd"
   ]
  },
  {
   "cell_type": "markdown",
   "metadata": {
    "id": "7h-7q4BjAYTJ"
   },
   "source": [
    "Agora existe uma variável dentro deste namespace que é referenciado pelo módulo:"
   ]
  },
  {
   "cell_type": "code",
   "execution_count": 23,
   "metadata": {
    "colab": {
     "base_uri": "https://localhost:8080/"
    },
    "id": "5CuiMSDEAgi4",
    "outputId": "7ea73c69-f59e-4687-8ce9-c36b1f341a2a"
   },
   "outputs": [
    {
     "data": {
      "text/plain": [
       "<function posix.getcwd()>"
      ]
     },
     "execution_count": 23,
     "metadata": {},
     "output_type": "execute_result"
    }
   ],
   "source": [
    "getcwd"
   ]
  },
  {
   "cell_type": "code",
   "execution_count": 31,
   "metadata": {},
   "outputs": [
    {
     "data": {
      "text/plain": [
       "'/home/matias/repositorios-github/base_python'"
      ]
     },
     "execution_count": 31,
     "metadata": {},
     "output_type": "execute_result"
    }
   ],
   "source": [
    "getcwd()"
   ]
  },
  {
   "cell_type": "markdown",
   "metadata": {
    "id": "UYofCy6GAv1R"
   },
   "source": [
    "Da mesma forma que anterior, esse objeto utilizado em memória pode ser renomeado:"
   ]
  },
  {
   "cell_type": "code",
   "execution_count": 28,
   "metadata": {
    "id": "Nz_A2Lp-A3Iv"
   },
   "outputs": [],
   "source": [
    "from os import getcwd as xyz"
   ]
  },
  {
   "cell_type": "markdown",
   "metadata": {
    "id": "-oh7MC6AA8h_"
   },
   "source": [
    "Testando:"
   ]
  },
  {
   "cell_type": "code",
   "execution_count": 29,
   "metadata": {
    "colab": {
     "base_uri": "https://localhost:8080/",
     "height": 35
    },
    "id": "ytHAS-SaA9vX",
    "outputId": "472c64f0-1ecb-44eb-e139-ea5153f934f5"
   },
   "outputs": [
    {
     "data": {
      "text/plain": [
       "'/home/matias/repositorios-github/base_python'"
      ]
     },
     "execution_count": 29,
     "metadata": {},
     "output_type": "execute_result"
    }
   ],
   "source": [
    "xyz()"
   ]
  },
  {
   "cell_type": "code",
   "execution_count": 26,
   "metadata": {
    "colab": {
     "base_uri": "https://localhost:8080/"
    },
    "id": "fFpIr_3WBBE_",
    "outputId": "a8b57a49-d695-4d0d-f60b-17492134c066"
   },
   "outputs": [
    {
     "data": {
      "text/plain": [
       "(140305512553968, 140305512553968, 140305512553968)"
      ]
     },
     "execution_count": 26,
     "metadata": {},
     "output_type": "execute_result"
    }
   ],
   "source": [
    "id(xyz) , id(getcwd), id(os.getcwd)"
   ]
  },
  {
   "cell_type": "markdown",
   "metadata": {
    "id": "0RYA6OeGBXpu"
   },
   "source": [
    "Finalmente, se for usado apenas parte do módulo, pode ser mais interessante importar apenas os módulos que são interessantes. Mas se houver a utilização de muitos partes do módulo, pode ser mais interessante fazer a importação completa do módulo."
   ]
  }
 ],
 "metadata": {
  "colab": {
   "include_colab_link": true,
   "name": "01 - modulos.ipynb",
   "provenance": []
  },
  "kernelspec": {
   "display_name": "Python 3 (ipykernel)",
   "language": "python",
   "name": "python3"
  },
  "language_info": {
   "codemirror_mode": {
    "name": "ipython",
    "version": 3
   },
   "file_extension": ".py",
   "mimetype": "text/x-python",
   "name": "python",
   "nbconvert_exporter": "python",
   "pygments_lexer": "ipython3",
   "version": "3.11.3"
  }
 },
 "nbformat": 4,
 "nbformat_minor": 1
}
